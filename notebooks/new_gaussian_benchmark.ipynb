{
 "cells": [
  {
   "cell_type": "markdown",
   "metadata": {},
   "source": [
    "<center>\n",
    "\n",
    "# [`ProxNest`](https://github.com/astro-informatics/proxnest) - __Gaussian Benchmarking__ Interactive Tutorial\n",
    "---"
   ]
  },
  {
   "cell_type": "code",
   "execution_count": 1,
   "metadata": {},
   "outputs": [],
   "source": [
    "import numpy as np\n",
    "import ProxNest.utils as utils\n",
    "import ProxNest.sampling as sampling\n",
    "import ProxNest.optimisations as optimisations\n",
    "import ProxNest.operators as operators"
   ]
  },
  {
   "cell_type": "markdown",
   "metadata": {},
   "source": [
    "### Generate mock data "
   ]
  },
  {
   "cell_type": "code",
   "execution_count": 2,
   "metadata": {},
   "outputs": [],
   "source": [
    "# Dimension of Gaussian\n",
    "dimension = 200\n",
    "\n",
    "# A simple identity forward model and redundant dictionary\n",
    "phi = operators.sensing_operators.Identity()\n",
    "psi = operators.sensing_operators.Identity()\n",
    "\n",
    "# Generate a vector drawn from a Uniform distribution\n",
    "image = np.random.rand(dimension, 1)\n",
    "\n",
    "# Simulate some unit variance Gaussian noise on this random vector\n",
    "sigma = 1\n",
    "n = sigma*np.random.randn(dimension, 1)\n",
    "image = image + n"
   ]
  },
  {
   "cell_type": "markdown",
   "metadata": {},
   "source": [
    "### Define parameters"
   ]
  },
  {
   "cell_type": "code",
   "execution_count": 3,
   "metadata": {},
   "outputs": [],
   "source": [
    "# Define a regularisation parameter (this should be tuned for a given problem)\n",
    "delta = 1/2\n",
    "\n",
    "# Parameter dictionary associated with optimisation problem of resampling from the prior subject to the likelihood iso-ball\n",
    "params = utils.create_parameters_dict(\n",
    "           y = image,                # Measurements i.e. data\n",
    "         Phi = phi,                  # Forward model\n",
    "     epsilon = 1e-3,                 # Radius of L2-ball of likelihood \n",
    "       tight = False,                 # Is Phi a tight frame or not?\n",
    "          nu = 1,                    # Bound on the squared-norm of Phi\n",
    "         tol = 1e-10,                # Convergence tolerance of algorithm\n",
    "    max_iter = 200,                  # Maximum number of iterations\n",
    "     verbose = 0,                    # Verbosity level\n",
    "           u = 0,                    # Initial vector for the dual problem\n",
    "         pos = False,                 # Positivity flag\n",
    "     reality = False                  # Reality flag\n",
    ")\n",
    "\n",
    "# Options dictionary associated with the overall sampling algorithm\n",
    "options = utils.create_options_dict(\n",
    "    samplesL = 2e2,                  # Number of live samples\n",
    "    samplesD = 3e3,                  # Number of discarded samples \n",
    "    lv_thinning_init = 1e1,          # Thinning factor in initialisation\n",
    "    lv_thinning = 1e0,               # Thinning factor in the sample update\n",
    "    MH_step = False,                  # Metropolis-Hastings step\n",
    "    warm_start_coeff = 1e-1,          # Warm start coefficient\n",
    "       delta = 1e-2,                 # Discretisation stepsize\n",
    "       lamb = 5e-2,                  # Moreau-Yosida approximation parameter, usually `5 * delta`\n",
    "        burn = 1e2,                  # Number of burn in samples\n",
    "       sigma = sigma                 # Noise standard deviation of degraded image\n",
    ")"
   ]
  },
  {
   "cell_type": "markdown",
   "metadata": {},
   "source": [
    "### Create lambda functions"
   ]
  },
  {
   "cell_type": "code",
   "execution_count": 4,
   "metadata": {},
   "outputs": [],
   "source": [
    "# Lambda functions to evaluate cost function\n",
    "LogLikeliL = lambda sol : - np.linalg.norm(image-phi.dir_op(sol))**2/(2*sigma**2)\n",
    "\n",
    "# Lambda function for L2-norm identity prior backprojection steps\n",
    "proxH = lambda x, T : x - 2*T*psi.adj_op(psi.dir_op(x))*2*delta\n",
    "\n",
    "# Lambda function for L2-ball likelihood projection during resampling\n",
    "proxB = lambda x, tau: optimisations.l2_ball_proj.sopt_fast_proj_B2(x, tau, params)"
   ]
  },
  {
   "cell_type": "markdown",
   "metadata": {},
   "source": [
    "### Perform Proximal Nested Sampling"
   ]
  },
  {
   "cell_type": "code",
   "execution_count": 5,
   "metadata": {},
   "outputs": [
    {
     "name": "stderr",
     "output_type": "stream",
     "text": [
      "ProxNest || Initialise: 100%|██████████| 200/200 [00:00<00:00, 7245.05it/s]\n",
      "ProxNest || Populate: 100%|██████████| 10098/10098 [00:00<00:00, 102580.32it/s]\n",
      "ProxNest || Sample:  15%|█▍        | 1483/10000 [00:23<02:17, 61.89it/s]\n"
     ]
    },
    {
     "ename": "KeyboardInterrupt",
     "evalue": "",
     "output_type": "error",
     "traceback": [
      "\u001b[0;31m---------------------------------------------------------------------------\u001b[0m",
      "\u001b[0;31mKeyboardInterrupt\u001b[0m                         Traceback (most recent call last)",
      "Cell \u001b[0;32mIn[5], line 5\u001b[0m\n\u001b[1;32m      2\u001b[0m X0 \u001b[38;5;241m=\u001b[39m np\u001b[38;5;241m.\u001b[39mabs(phi\u001b[38;5;241m.\u001b[39madj_op(image))\n\u001b[1;32m      4\u001b[0m \u001b[38;5;66;03m# Perform proximal nested sampling\u001b[39;00m\n\u001b[0;32m----> 5\u001b[0m NS_BayEvi, NS_Trace \u001b[38;5;241m=\u001b[39m sampling\u001b[38;5;241m.\u001b[39mproximal_nested\u001b[38;5;241m.\u001b[39mProxNestedSampling(X0, LogLikeliL, proxH, proxB, params, options)\n\u001b[1;32m      6\u001b[0m rescaled_evidence_estimate \u001b[38;5;241m=\u001b[39m NS_BayEvi[\u001b[38;5;241m0\u001b[39m] \u001b[38;5;241m+\u001b[39m np\u001b[38;5;241m.\u001b[39mlog(np\u001b[38;5;241m.\u001b[39mpi\u001b[38;5;241m/\u001b[39mdelta)\u001b[38;5;241m*\u001b[39m(dimension\u001b[38;5;241m/\u001b[39m\u001b[38;5;241m2\u001b[39m)\n",
      "File \u001b[0;32m~/Work/PhD/Project/Repositories/proxnest/ProxNest/sampling/proximal_nested.py:131\u001b[0m, in \u001b[0;36mProxNestedSampling\u001b[0;34m(X0, LikeliL, proxH, proxB, params, options)\u001b[0m\n\u001b[1;32m    129\u001b[0m \u001b[38;5;66;03m# Generate a new sample with likelihood larger than given threshould\u001b[39;00m\n\u001b[1;32m    130\u001b[0m \u001b[38;5;28;01mfor\u001b[39;00m jj \u001b[38;5;129;01min\u001b[39;00m \u001b[38;5;28mrange\u001b[39m(options[\u001b[38;5;124m'\u001b[39m\u001b[38;5;124mlv_thinning\u001b[39m\u001b[38;5;124m'\u001b[39m]):\n\u001b[0;32m--> 131\u001b[0m     Xcur \u001b[38;5;241m=\u001b[39m drift(Xcur, delta, lamb, tau) \u001b[38;5;241m+\u001b[39m np\u001b[38;5;241m.\u001b[39msqrt(delta) \u001b[38;5;241m*\u001b[39m np\u001b[38;5;241m.\u001b[39mrandom\u001b[38;5;241m.\u001b[39mrandn(\n\u001b[1;32m    132\u001b[0m         Xcur\u001b[38;5;241m.\u001b[39mshape[\u001b[38;5;241m0\u001b[39m], Xcur\u001b[38;5;241m.\u001b[39mshape[\u001b[38;5;241m1\u001b[39m]\n\u001b[1;32m    133\u001b[0m     )\n\u001b[1;32m    135\u001b[0m \u001b[38;5;28;01mif\u001b[39;00m \u001b[38;5;129;01mnot\u001b[39;00m options[\u001b[38;5;124m'\u001b[39m\u001b[38;5;124mMH_step\u001b[39m\u001b[38;5;124m'\u001b[39m]:\n\u001b[1;32m    136\u001b[0m     \u001b[38;5;66;03m# Exit MH recursion\u001b[39;00m\n\u001b[1;32m    137\u001b[0m     \u001b[38;5;28;01mbreak\u001b[39;00m\n",
      "File \u001b[0;32m~/Work/PhD/Project/Repositories/proxnest/ProxNest/sampling/proximal_nested.py:46\u001b[0m, in \u001b[0;36mProxNestedSampling.<locals>.<lambda>\u001b[0;34m(X, delta, lamb, tau)\u001b[0m\n\u001b[1;32m     37\u001b[0m \u001b[38;5;66;03m# Simulation setup\u001b[39;00m\n\u001b[1;32m     38\u001b[0m \u001b[38;5;66;03m# Use backward-forward splitting to approximate proxPi using proxH and gradF\u001b[39;00m\n\u001b[1;32m     39\u001b[0m driftIniN \u001b[38;5;241m=\u001b[39m \u001b[38;5;28;01mlambda\u001b[39;00m X, delta, lamb: np\u001b[38;5;241m.\u001b[39mreal(\n\u001b[1;32m     40\u001b[0m     (\u001b[38;5;241m1\u001b[39m \u001b[38;5;241m-\u001b[39m delta \u001b[38;5;241m/\u001b[39m (\u001b[38;5;241m2\u001b[39m \u001b[38;5;241m*\u001b[39m lamb)) \u001b[38;5;241m*\u001b[39m X \u001b[38;5;241m+\u001b[39m delta \u001b[38;5;241m/\u001b[39m (\u001b[38;5;241m2\u001b[39m \u001b[38;5;241m*\u001b[39m lamb) \u001b[38;5;241m*\u001b[39m proxH(X, lamb)\n\u001b[1;32m     41\u001b[0m )\n\u001b[1;32m     42\u001b[0m drift \u001b[38;5;241m=\u001b[39m \u001b[38;5;28;01mlambda\u001b[39;00m X, delta, lamb, tau: np\u001b[38;5;241m.\u001b[39mreal(\n\u001b[1;32m     43\u001b[0m     (\u001b[38;5;241m1\u001b[39m \u001b[38;5;241m-\u001b[39m delta \u001b[38;5;241m/\u001b[39m lamb) \u001b[38;5;241m*\u001b[39m X\n\u001b[1;32m     44\u001b[0m     \u001b[38;5;241m+\u001b[39m delta\n\u001b[1;32m     45\u001b[0m     \u001b[38;5;241m/\u001b[39m (\u001b[38;5;241m2\u001b[39m \u001b[38;5;241m*\u001b[39m lamb)\n\u001b[0;32m---> 46\u001b[0m     \u001b[38;5;241m*\u001b[39m (proxH(X, lamb) \u001b[38;5;241m+\u001b[39m proxB(X, np\u001b[38;5;241m.\u001b[39msqrt(tau \u001b[38;5;241m*\u001b[39m \u001b[38;5;241m2\u001b[39m \u001b[38;5;241m*\u001b[39m sigma\u001b[38;5;241m*\u001b[39m\u001b[38;5;241m*\u001b[39m\u001b[38;5;241m2\u001b[39m)))\n\u001b[1;32m     47\u001b[0m )\n\u001b[1;32m     49\u001b[0m \u001b[38;5;66;03m# Initialize variables\u001b[39;00m\n\u001b[1;32m     50\u001b[0m delta \u001b[38;5;241m=\u001b[39m options[\n\u001b[1;32m     51\u001b[0m     \u001b[38;5;124m\"\u001b[39m\u001b[38;5;124mdelta\u001b[39m\u001b[38;5;124m\"\u001b[39m\n\u001b[1;32m     52\u001b[0m ]  \u001b[38;5;66;03m# delta controls the proposal variance, the step-length and Moreau approximation\u001b[39;00m\n",
      "Cell \u001b[0;32mIn[4], line 8\u001b[0m, in \u001b[0;36m<lambda>\u001b[0;34m(x, tau)\u001b[0m\n\u001b[1;32m      5\u001b[0m proxH \u001b[38;5;241m=\u001b[39m \u001b[38;5;28;01mlambda\u001b[39;00m x, T : x \u001b[38;5;241m-\u001b[39m \u001b[38;5;241m2\u001b[39m\u001b[38;5;241m*\u001b[39mT\u001b[38;5;241m*\u001b[39mpsi\u001b[38;5;241m.\u001b[39madj_op(psi\u001b[38;5;241m.\u001b[39mdir_op(x))\u001b[38;5;241m*\u001b[39m\u001b[38;5;241m2\u001b[39m\u001b[38;5;241m*\u001b[39mdelta\n\u001b[1;32m      7\u001b[0m \u001b[38;5;66;03m# Lambda function for L2-ball likelihood projection during resampling\u001b[39;00m\n\u001b[0;32m----> 8\u001b[0m proxB \u001b[38;5;241m=\u001b[39m \u001b[38;5;28;01mlambda\u001b[39;00m x, tau: optimisations\u001b[38;5;241m.\u001b[39ml2_ball_proj\u001b[38;5;241m.\u001b[39msopt_fast_proj_B2(x, tau, params)\n",
      "File \u001b[0;32m~/Work/PhD/Project/Repositories/proxnest/ProxNest/optimisations/l2_ball_proj.py:76\u001b[0m, in \u001b[0;36msopt_fast_proj_B2\u001b[0;34m(x, tau, params)\u001b[0m\n\u001b[1;32m     74\u001b[0m \u001b[38;5;66;03m# Scaling for the projection\u001b[39;00m\n\u001b[1;32m     75\u001b[0m res \u001b[38;5;241m=\u001b[39m u \u001b[38;5;241m*\u001b[39m params[\u001b[38;5;124m\"\u001b[39m\u001b[38;5;124mnu\u001b[39m\u001b[38;5;124m\"\u001b[39m] \u001b[38;5;241m+\u001b[39m res\n\u001b[0;32m---> 76\u001b[0m norm_proj \u001b[38;5;241m=\u001b[39m np\u001b[38;5;241m.\u001b[39mlinalg\u001b[38;5;241m.\u001b[39mnorm(res)\n\u001b[1;32m     78\u001b[0m \u001b[38;5;66;03m# Log\u001b[39;00m\n\u001b[1;32m     79\u001b[0m \u001b[38;5;28;01mif\u001b[39;00m params[\u001b[38;5;124m\"\u001b[39m\u001b[38;5;124mverbose\u001b[39m\u001b[38;5;124m\"\u001b[39m] \u001b[38;5;241m>\u001b[39m \u001b[38;5;241m1\u001b[39m:\n",
      "File \u001b[0;32m~/anaconda3/envs/proxnest/lib/python3.12/site-packages/numpy/linalg/linalg.py:2547\u001b[0m, in \u001b[0;36mnorm\u001b[0;34m(x, ord, axis, keepdims)\u001b[0m\n\u001b[1;32m   2542\u001b[0m \u001b[38;5;28;01mif\u001b[39;00m ((\u001b[38;5;28mord\u001b[39m \u001b[38;5;129;01mis\u001b[39;00m \u001b[38;5;28;01mNone\u001b[39;00m) \u001b[38;5;129;01mor\u001b[39;00m\n\u001b[1;32m   2543\u001b[0m     (\u001b[38;5;28mord\u001b[39m \u001b[38;5;129;01min\u001b[39;00m (\u001b[38;5;124m'\u001b[39m\u001b[38;5;124mf\u001b[39m\u001b[38;5;124m'\u001b[39m, \u001b[38;5;124m'\u001b[39m\u001b[38;5;124mfro\u001b[39m\u001b[38;5;124m'\u001b[39m) \u001b[38;5;129;01mand\u001b[39;00m ndim \u001b[38;5;241m==\u001b[39m \u001b[38;5;241m2\u001b[39m) \u001b[38;5;129;01mor\u001b[39;00m\n\u001b[1;32m   2544\u001b[0m     (\u001b[38;5;28mord\u001b[39m \u001b[38;5;241m==\u001b[39m \u001b[38;5;241m2\u001b[39m \u001b[38;5;129;01mand\u001b[39;00m ndim \u001b[38;5;241m==\u001b[39m \u001b[38;5;241m1\u001b[39m)):\n\u001b[1;32m   2546\u001b[0m     x \u001b[38;5;241m=\u001b[39m x\u001b[38;5;241m.\u001b[39mravel(order\u001b[38;5;241m=\u001b[39m\u001b[38;5;124m'\u001b[39m\u001b[38;5;124mK\u001b[39m\u001b[38;5;124m'\u001b[39m)\n\u001b[0;32m-> 2547\u001b[0m     \u001b[38;5;28;01mif\u001b[39;00m isComplexType(x\u001b[38;5;241m.\u001b[39mdtype\u001b[38;5;241m.\u001b[39mtype):\n\u001b[1;32m   2548\u001b[0m         x_real \u001b[38;5;241m=\u001b[39m x\u001b[38;5;241m.\u001b[39mreal\n\u001b[1;32m   2549\u001b[0m         x_imag \u001b[38;5;241m=\u001b[39m x\u001b[38;5;241m.\u001b[39mimag\n",
      "File \u001b[0;32m~/anaconda3/envs/proxnest/lib/python3.12/site-packages/numpy/linalg/linalg.py:140\u001b[0m, in \u001b[0;36misComplexType\u001b[0;34m(t)\u001b[0m\n\u001b[1;32m    137\u001b[0m     wrap \u001b[38;5;241m=\u001b[39m \u001b[38;5;28mgetattr\u001b[39m(a, \u001b[38;5;124m\"\u001b[39m\u001b[38;5;124m__array_prepare__\u001b[39m\u001b[38;5;124m\"\u001b[39m, new\u001b[38;5;241m.\u001b[39m__array_wrap__)\n\u001b[1;32m    138\u001b[0m     \u001b[38;5;28;01mreturn\u001b[39;00m new, wrap\n\u001b[0;32m--> 140\u001b[0m \u001b[38;5;28;01mdef\u001b[39;00m \u001b[38;5;21misComplexType\u001b[39m(t):\n\u001b[1;32m    141\u001b[0m     \u001b[38;5;28;01mreturn\u001b[39;00m \u001b[38;5;28missubclass\u001b[39m(t, complexfloating)\n\u001b[1;32m    143\u001b[0m _real_types_map \u001b[38;5;241m=\u001b[39m {single : single,\n\u001b[1;32m    144\u001b[0m                    double : double,\n\u001b[1;32m    145\u001b[0m                    csingle : single,\n\u001b[1;32m    146\u001b[0m                    cdouble : double}\n",
      "\u001b[0;31mKeyboardInterrupt\u001b[0m: "
     ]
    }
   ],
   "source": [
    "# Select a starting position\n",
    "X0 = np.abs(phi.adj_op(image))\n",
    "\n",
    "# Perform proximal nested sampling\n",
    "NS_BayEvi, NS_Trace = sampling.proximal_nested.ProxNestedSampling(X0, LogLikeliL, proxH, proxB, params, options)\n",
    "rescaled_evidence_estimate = NS_BayEvi[0] + np.log(np.pi/delta)*(dimension/2)"
   ]
  },
  {
   "cell_type": "markdown",
   "metadata": {},
   "source": [
    "### Evaluate analytic evidence"
   ]
  },
  {
   "cell_type": "code",
   "execution_count": null,
   "metadata": {},
   "outputs": [],
   "source": [
    "detPar = 1/(2*delta+1/sigma**2)\n",
    "ySquare= np.linalg.norm(image,'fro')**2\n",
    "BayEvi_Val_gt_log = np.log(np.sqrt(((2*np.pi)**dimension)*(detPar**dimension))) + (-ySquare/(2*sigma**2)) + (detPar/2)*(ySquare/sigma**4)"
   ]
  },
  {
   "cell_type": "markdown",
   "metadata": {},
   "source": [
    "### Compare evidence estimates"
   ]
  },
  {
   "cell_type": "code",
   "execution_count": null,
   "metadata": {},
   "outputs": [
    {
     "name": "stdout",
     "output_type": "stream",
     "text": [
      "41.95513297490342\n",
      "45.70877328171336\n"
     ]
    }
   ],
   "source": [
    "print(rescaled_evidence_estimate)\n",
    "print(BayEvi_Val_gt_log)"
   ]
  }
 ],
 "metadata": {
  "kernelspec": {
   "display_name": "proxnest_original",
   "language": "python",
   "name": "python3"
  },
  "language_info": {
   "codemirror_mode": {
    "name": "ipython",
    "version": 3
   },
   "file_extension": ".py",
   "mimetype": "text/x-python",
   "name": "python",
   "nbconvert_exporter": "python",
   "pygments_lexer": "ipython3",
   "version": "3.12.2"
  },
  "orig_nbformat": 4
 },
 "nbformat": 4,
 "nbformat_minor": 2
}
