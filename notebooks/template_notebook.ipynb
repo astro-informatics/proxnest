{
 "cells": [
  {
   "cell_type": "markdown",
   "metadata": {},
   "source": [
    "Basically just do whatever you like in a notebook such as this, just try and keep it neat (-ish).\n",
    "\n",
    "Once you are happy with the notebook, copy it into "
   ]
  },
  {
   "cell_type": "code",
   "execution_count": null,
   "metadata": {},
   "outputs": [],
   "source": [
    "cp my_new_notebook.ipynb ../docs/assets/static_notebooks/"
   ]
  },
  {
   "cell_type": "markdown",
   "metadata": {},
   "source": [
    "Then add an `nblink' file to docs/tutorials that looks like "
   ]
  },
  {
   "cell_type": "code",
   "execution_count": null,
   "metadata": {},
   "outputs": [],
   "source": [
    "{\n",
    "    \"path\": \"../assets/static_notebooks/my_new_notebook.ipynb\"\n",
    "}"
   ]
  },
  {
   "cell_type": "markdown",
   "metadata": {},
   "source": [
    "and then add this to the main documentation by editing the top level index.rst by adding the following"
   ]
  },
  {
   "cell_type": "code",
   "execution_count": null,
   "metadata": {},
   "outputs": [],
   "source": [
    ".. toctree::\n",
    "   :hidden:\n",
    "   :maxdepth: 2\n",
    "   :caption: Tutorials\n",
    "   \n",
    "   tutorials/my_new_notebook.nblink"
   ]
  }
 ],
 "metadata": {
  "language_info": {
   "name": "python"
  },
  "orig_nbformat": 4
 },
 "nbformat": 4,
 "nbformat_minor": 2
}
